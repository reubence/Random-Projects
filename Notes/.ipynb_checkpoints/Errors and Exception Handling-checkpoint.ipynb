{
 "cells": [
  {
   "cell_type": "markdown",
   "metadata": {},
   "source": [
    "### 1) Try, Except, Else and Finally Blocks\n",
    "\n",
    "##### Else blocks are used when we don't want a piece of code to raise an error and enter the exception block where the error will not be handled"
   ]
  },
  {
   "cell_type": "code",
   "execution_count": 7,
   "metadata": {},
   "outputs": [
    {
     "name": "stdout",
     "output_type": "stream",
     "text": [
      "Enter as\n",
      "Error\n",
      "Code Block Done\n"
     ]
    }
   ],
   "source": [
    "try:\n",
    "    a = int(input(\"Enter a\"))\n",
    "    b = int(input(\"Enter b\"))\n",
    "    d = a+b\n",
    "    try:\n",
    "        c = int(input(\"Enter C\"))\n",
    "        e = c + d\n",
    "    except:\n",
    "        print(\"Error\")\n",
    "except:\n",
    "    print(\"Error\")\n",
    "else: #this will execute once try block executes successfully\n",
    "    print(e)\n",
    "finally: #this block always executes itself no matter what\n",
    "    print(\"Code Block Done\")"
   ]
  },
  {
   "cell_type": "markdown",
   "metadata": {},
   "source": [
    "###### Below is an example of how we can use a try-except block that returns an error untill the user enters the right inputs. "
   ]
  },
  {
   "cell_type": "code",
   "execution_count": 13,
   "metadata": {},
   "outputs": [
    {
     "name": "stdout",
     "output_type": "stream",
     "text": [
      "Enter First Number...1\n",
      "Enter Second Number...1\n",
      "1.0\n"
     ]
    }
   ],
   "source": [
    "while True:\n",
    "    try:\n",
    "        a = int(input('Enter First Number...'))\n",
    "        b = int(input('Enter Second Number...'))\n",
    "        res = a/b\n",
    "        print(res)\n",
    "        break\n",
    "    except:\n",
    "        print('Invalid Input...')\n",
    "        print(\"Please input numbers\")\n"
   ]
  },
  {
   "cell_type": "markdown",
   "metadata": {},
   "source": [
    "### 2) Writing Custom Exceptions"
   ]
  },
  {
   "cell_type": "code",
   "execution_count": 24,
   "metadata": {},
   "outputs": [
    {
     "name": "stdout",
     "output_type": "stream",
     "text": [
      "Error :  not writable\n"
     ]
    }
   ],
   "source": [
    "try:\n",
    "    f = open(\"test.txt\",\"r\")\n",
    "    f.write(\"Test write this\")\n",
    "except Exception as e:\n",
    "    print(\"Error : \" , e)"
   ]
  },
  {
   "cell_type": "code",
   "execution_count": 32,
   "metadata": {},
   "outputs": [
    {
     "name": "stdout",
     "output_type": "stream",
     "text": [
      "Super Class Exception\n"
     ]
    }
   ],
   "source": [
    "try:\n",
    "    f = open(\"test.txt\",\"r\")\n",
    "    f.write(\"Test write this\")\n",
    "except Exception:\n",
    "    print(\"Super Class Exception\")\n",
    "except IOError:\n",
    "    print(\"IOError\")\n",
    "except SyntaxError:\n",
    "    print(\"SyntaxError : \")\n",
    "except ValueError:\n",
    "    print(\"this is a block for Value error\")\n",
    "except:\n",
    "    print(\"default exception\")"
   ]
  },
  {
   "cell_type": "code",
   "execution_count": 36,
   "metadata": {},
   "outputs": [
    {
     "name": "stdout",
     "output_type": "stream",
     "text": [
      "IOError\n"
     ]
    }
   ],
   "source": [
    "try:\n",
    "    f = open(\"test.txt\",\"r\")\n",
    "    f.write(\"Test write this\")\n",
    "except (IOError, SyntaxError, ValueError): #this follows a hierarchy\n",
    "    print(\"IOError\")                       #according to the order in \n",
    "                                           #which it was called in the tuple"
   ]
  },
  {
   "cell_type": "markdown",
   "metadata": {},
   "source": [
    "###### CUSTOM EXCPETIONS"
   ]
  },
  {
   "cell_type": "code",
   "execution_count": 45,
   "metadata": {},
   "outputs": [],
   "source": [
    "class DivisionByOne(Exception): #custom exception where b cannot equal 1\n",
    "    pass\n",
    "\n",
    "class InputAsString(Exception):\n",
    "    pass"
   ]
  },
  {
   "cell_type": "code",
   "execution_count": 53,
   "metadata": {},
   "outputs": [
    {
     "name": "stdout",
     "output_type": "stream",
     "text": [
      "Enter A valuesad\n",
      "Enter A value2\n",
      "The input value was a string\n"
     ]
    }
   ],
   "source": [
    "try:\n",
    "    a = (input(\"Enter A value\"))\n",
    "    b = int(input(\"Enter A value\"))\n",
    "    if b==1:\n",
    "        raise DivisionByOne()\n",
    "    elif type(a)==str:\n",
    "        raise InputAsString()\n",
    "except DivisionByOne:\n",
    "    print(\"The input value was 1\")\n",
    "except InputAsString:\n",
    "    print(\"The input value was a string\")"
   ]
  },
  {
   "cell_type": "code",
   "execution_count": null,
   "metadata": {},
   "outputs": [],
   "source": []
  },
  {
   "cell_type": "code",
   "execution_count": null,
   "metadata": {},
   "outputs": [],
   "source": []
  }
 ],
 "metadata": {
  "kernelspec": {
   "display_name": "Python 3",
   "language": "python",
   "name": "python3"
  },
  "language_info": {
   "codemirror_mode": {
    "name": "ipython",
    "version": 3
   },
   "file_extension": ".py",
   "mimetype": "text/x-python",
   "name": "python",
   "nbconvert_exporter": "python",
   "pygments_lexer": "ipython3",
   "version": "3.6.10"
  }
 },
 "nbformat": 4,
 "nbformat_minor": 4
}
